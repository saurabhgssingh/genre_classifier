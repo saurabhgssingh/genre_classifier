{
  "nbformat": 4,
  "nbformat_minor": 0,
  "metadata": {
    "colab": {
      "name": "Multi_Label_Prediction.ipynb",
      "provenance": [],
      "collapsed_sections": [
        "DDUhRb2vfBBC"
      ],
      "mount_file_id": "13cY45dZFfHuTtQSqKG3iV8Fm0vl5oa85",
      "authorship_tag": "ABX9TyOzZeo13zTcMN0Kzsvkp4JX",
      "include_colab_link": true
    },
    "kernelspec": {
      "name": "python3",
      "display_name": "Python 3"
    },
    "accelerator": "GPU"
  },
  "cells": [
    {
      "cell_type": "markdown",
      "metadata": {
        "id": "view-in-github",
        "colab_type": "text"
      },
      "source": [
        "<a href=\"https://colab.research.google.com/github/saurabhgssingh/genre_classifier/blob/master/Multi_Label_Prediction.ipynb\" target=\"_parent\"><img src=\"https://colab.research.google.com/assets/colab-badge.svg\" alt=\"Open In Colab\"/></a>"
      ]
    },
    {
      "cell_type": "code",
      "metadata": {
        "id": "Lkx4156PhFgv",
        "colab_type": "code",
        "colab": {
          "base_uri": "https://localhost:8080/",
          "height": 106
        },
        "outputId": "a558e03e-d211-4e2b-df2c-2b1b34a915dc"
      },
      "source": [
        "%tensorflow_version 2.1.0"
      ],
      "execution_count": null,
      "outputs": [
        {
          "output_type": "stream",
          "text": [
            "`%tensorflow_version` only switches the major version: 1.x or 2.x.\n",
            "You set: `2.1.0`. This will be interpreted as: `2.x`.\n",
            "\n",
            "\n",
            "TensorFlow 2.x selected.\n"
          ],
          "name": "stdout"
        }
      ]
    },
    {
      "cell_type": "code",
      "metadata": {
        "id": "G2AsKw4piNBn",
        "colab_type": "code",
        "colab": {
          "base_uri": "https://localhost:8080/",
          "height": 36
        },
        "outputId": "f92eb333-3aaf-4ead-db2d-7bb59fcef837"
      },
      "source": [
        "import tensorflow as tf\n",
        "tf.__version__\n",
        "\n"
      ],
      "execution_count": null,
      "outputs": [
        {
          "output_type": "execute_result",
          "data": {
            "application/vnd.google.colaboratory.intrinsic+json": {
              "type": "string"
            },
            "text/plain": [
              "'2.3.0'"
            ]
          },
          "metadata": {
            "tags": []
          },
          "execution_count": 2
        }
      ]
    },
    {
      "cell_type": "code",
      "metadata": {
        "id": "Zpr8sOqbZATc",
        "colab_type": "code",
        "colab": {
          "base_uri": "https://localhost:8080/",
          "height": 52
        },
        "outputId": "9940e0f1-43a2-451b-8d02-527d76ff1012"
      },
      "source": [
        "import nltk\n",
        "\n",
        "import pandas as pd\n",
        "import numpy as np\n",
        "import matplotlib.pyplot as plt\n",
        "import seaborn as sns\n",
        "sns.set()\n",
        "%matplotlib inline\n",
        "from sklearn.metrics import f1_score,precision_score,recall_score\n",
        "import re"
      ],
      "execution_count": null,
      "outputs": [
        {
          "output_type": "stream",
          "text": [
            "/usr/local/lib/python3.6/dist-packages/statsmodels/tools/_testing.py:19: FutureWarning: pandas.util.testing is deprecated. Use the functions in the public API at pandas.testing instead.\n",
            "  import pandas.util.testing as tm\n"
          ],
          "name": "stderr"
        }
      ]
    },
    {
      "cell_type": "code",
      "metadata": {
        "id": "SzML5MzaaCyJ",
        "colab_type": "code",
        "colab": {
          "base_uri": "https://localhost:8080/",
          "height": 194
        },
        "outputId": "fafb44b0-6cb7-45dd-86c9-bb6bccac42df"
      },
      "source": [
        "movies=pd.read_csv(\"/content/drive/My Drive/Incubator/movies.csv\",usecols=[\"title\",'description','genres'])\n",
        "movies.head()"
      ],
      "execution_count": null,
      "outputs": [
        {
          "output_type": "execute_result",
          "data": {
            "text/html": [
              "<div>\n",
              "<style scoped>\n",
              "    .dataframe tbody tr th:only-of-type {\n",
              "        vertical-align: middle;\n",
              "    }\n",
              "\n",
              "    .dataframe tbody tr th {\n",
              "        vertical-align: top;\n",
              "    }\n",
              "\n",
              "    .dataframe thead th {\n",
              "        text-align: right;\n",
              "    }\n",
              "</style>\n",
              "<table border=\"1\" class=\"dataframe\">\n",
              "  <thead>\n",
              "    <tr style=\"text-align: right;\">\n",
              "      <th></th>\n",
              "      <th>title</th>\n",
              "      <th>description</th>\n",
              "      <th>genres</th>\n",
              "    </tr>\n",
              "  </thead>\n",
              "  <tbody>\n",
              "    <tr>\n",
              "      <th>0</th>\n",
              "      <td>Toy Story</td>\n",
              "      <td>Led by Woody, Andy's toys live happily in his ...</td>\n",
              "      <td>animation, comedy, family</td>\n",
              "    </tr>\n",
              "    <tr>\n",
              "      <th>1</th>\n",
              "      <td>Jumanji</td>\n",
              "      <td>When siblings Judy and Peter discover an encha...</td>\n",
              "      <td>adventure, fantasy, family</td>\n",
              "    </tr>\n",
              "    <tr>\n",
              "      <th>2</th>\n",
              "      <td>Grumpier Old Men</td>\n",
              "      <td>A family wedding reignites the ancient feud be...</td>\n",
              "      <td>romance, comedy</td>\n",
              "    </tr>\n",
              "    <tr>\n",
              "      <th>3</th>\n",
              "      <td>Waiting to Exhale</td>\n",
              "      <td>Cheated on, mistreated and stepped on, the wom...</td>\n",
              "      <td>comedy, drama, romance</td>\n",
              "    </tr>\n",
              "    <tr>\n",
              "      <th>4</th>\n",
              "      <td>Father of the Bride Part II</td>\n",
              "      <td>Just when George Banks has recovered from his ...</td>\n",
              "      <td>comedy</td>\n",
              "    </tr>\n",
              "  </tbody>\n",
              "</table>\n",
              "</div>"
            ],
            "text/plain": [
              "                         title  ...                      genres\n",
              "0                    Toy Story  ...   animation, comedy, family\n",
              "1                      Jumanji  ...  adventure, fantasy, family\n",
              "2             Grumpier Old Men  ...             romance, comedy\n",
              "3            Waiting to Exhale  ...      comedy, drama, romance\n",
              "4  Father of the Bride Part II  ...                      comedy\n",
              "\n",
              "[5 rows x 3 columns]"
            ]
          },
          "metadata": {
            "tags": []
          },
          "execution_count": 2
        }
      ]
    },
    {
      "cell_type": "code",
      "metadata": {
        "id": "OTwANsePaKM9",
        "colab_type": "code",
        "colab": {}
      },
      "source": [
        "movies['description'] = movies['description'].astype('str')\n",
        "all_genres = [s.split(\", \") for s in movies[movies.genres.notnull()].genres]\n",
        "genres = [item for l in all_genres for item in l ]\n",
        "movies['genres']=movies.genres.str.split(\",\")\n",
        "movies['genres'].replace([np.nan],[' '],inplace=True)"
      ],
      "execution_count": null,
      "outputs": []
    },
    {
      "cell_type": "code",
      "metadata": {
        "id": "MWwyCYhAa4mt",
        "colab_type": "code",
        "colab": {
          "base_uri": "https://localhost:8080/",
          "height": 70
        },
        "outputId": "92187203-09d3-4c26-c038-505e265f751e"
      },
      "source": [
        "nltk.download('stopwords')"
      ],
      "execution_count": null,
      "outputs": [
        {
          "output_type": "stream",
          "text": [
            "[nltk_data] Downloading package stopwords to /root/nltk_data...\n",
            "[nltk_data]   Unzipping corpora/stopwords.zip.\n"
          ],
          "name": "stdout"
        },
        {
          "output_type": "execute_result",
          "data": {
            "text/plain": [
              "True"
            ]
          },
          "metadata": {
            "tags": []
          },
          "execution_count": 6
        }
      ]
    },
    {
      "cell_type": "code",
      "metadata": {
        "id": "0j00cxFcahrI",
        "colab_type": "code",
        "colab": {}
      },
      "source": [
        "\n",
        "def clean_text(text):\n",
        "    # remove backslash-apostrophe \n",
        "    text = re.sub(\"\\'\", \"\", text) \n",
        "    # remove everything except alphabets \n",
        "    text = re.sub(\"[^a-zA-Z]\",\" \",text) \n",
        "    # remove whitespaces \n",
        "    text = ' '.join(text.split()) \n",
        "    # convert text to lowercase \n",
        "    text = text.lower() \n",
        "    \n",
        "    return text\n",
        "\n",
        "movies['clean_plot'] = movies['description'].apply(lambda x: clean_text(x))\n",
        "\n",
        "from nltk.corpus import stopwords\n",
        "stop_words = set(stopwords.words('english'))\n",
        "\n",
        "# function to remove stopwords\n",
        "def remove_stopwords(text):\n",
        "    no_stopword_text = [w for w in text.split() if not w in stop_words]\n",
        "    return ' '.join(no_stopword_text)\n",
        "\n",
        "movies['clean_plot'] = movies['clean_plot'].apply(lambda x: remove_stopwords(x))\n",
        "movies = movies [['clean_plot', 'genres']]\n",
        "from sklearn.preprocessing import MultiLabelBinarizer\n",
        "multilabel_binarizer = MultiLabelBinarizer()\n",
        "multilabel_binarizer.fit(movies['genres'])\n",
        "\n",
        "\n",
        "\n",
        "# transform target variable\n",
        "labels = multilabel_binarizer.transform(movies['genres'])"
      ],
      "execution_count": null,
      "outputs": []
    },
    {
      "cell_type": "code",
      "metadata": {
        "id": "OZ3jQ69za8hU",
        "colab_type": "code",
        "colab": {}
      },
      "source": [
        "from tensorflow.keras.preprocessing.text import Tokenizer\n",
        "from tensorflow.keras.preprocessing.sequence import pad_sequences"
      ],
      "execution_count": null,
      "outputs": []
    },
    {
      "cell_type": "code",
      "metadata": {
        "id": "kFPJUfr2bhRL",
        "colab_type": "code",
        "colab": {}
      },
      "source": [
        "embedding_dim = 100\n",
        "max_length = 200\n",
        "trunc_type='post'\n",
        "padding_type='post'\n",
        "oov_tok = \"<OOV>\"\n",
        "training_size=37303\n",
        "test_portion=.1\n"
      ],
      "execution_count": null,
      "outputs": []
    },
    {
      "cell_type": "code",
      "metadata": {
        "id": "ukhc-8-Hbj4f",
        "colab_type": "code",
        "colab": {}
      },
      "source": [
        "sentences=list(movies['clean_plot'].astype('str'))"
      ],
      "execution_count": null,
      "outputs": []
    },
    {
      "cell_type": "code",
      "metadata": {
        "id": "sVgYfSmhbvhU",
        "colab_type": "code",
        "colab": {}
      },
      "source": [
        "from sklearn.model_selection import train_test_split\n",
        "train_sent, test_sent, train_label, test_label = train_test_split(sentences, labels, test_size=0.2, random_state=9)"
      ],
      "execution_count": null,
      "outputs": []
    },
    {
      "cell_type": "code",
      "metadata": {
        "id": "hSE0_HHVb3s2",
        "colab_type": "code",
        "colab": {}
      },
      "source": [
        "tokenizer = Tokenizer()\n",
        "tokenizer.fit_on_texts(train_sent)\n",
        "word_index = tokenizer.word_index\n",
        "vocab_size=len(word_index)"
      ],
      "execution_count": null,
      "outputs": []
    },
    {
      "cell_type": "markdown",
      "metadata": {
        "id": "-AuaxZfCcIau",
        "colab_type": "text"
      },
      "source": [
        "Train sequences and paddings"
      ]
    },
    {
      "cell_type": "code",
      "metadata": {
        "id": "9CDjEQ7Hb57G",
        "colab_type": "code",
        "colab": {}
      },
      "source": [
        "train_sequences = tokenizer.texts_to_sequences(train_sent)\n",
        "train_padded = pad_sequences(train_sequences, maxlen=max_length, padding=padding_type, truncating=trunc_type)"
      ],
      "execution_count": null,
      "outputs": []
    },
    {
      "cell_type": "markdown",
      "metadata": {
        "id": "DrH2ianrcMmi",
        "colab_type": "text"
      },
      "source": [
        "Test sequences and paddings"
      ]
    },
    {
      "cell_type": "code",
      "metadata": {
        "id": "nuHlJOTfcSSC",
        "colab_type": "code",
        "colab": {}
      },
      "source": [
        "test_sequences = tokenizer.texts_to_sequences(test_sent)\n",
        "test_padded = pad_sequences(test_sequences, maxlen=max_length, padding=padding_type, truncating=trunc_type)"
      ],
      "execution_count": null,
      "outputs": []
    },
    {
      "cell_type": "code",
      "metadata": {
        "id": "N0LXd7wVxg-6",
        "colab_type": "code",
        "colab": {
          "base_uri": "https://localhost:8080/",
          "height": 35
        },
        "outputId": "faadd0e1-b878-4087-b613-0feb942fa94a"
      },
      "source": [
        "train_padded.shape"
      ],
      "execution_count": null,
      "outputs": [
        {
          "output_type": "execute_result",
          "data": {
            "text/plain": [
              "(37302, 700)"
            ]
          },
          "metadata": {
            "tags": []
          },
          "execution_count": 18
        }
      ]
    },
    {
      "cell_type": "code",
      "metadata": {
        "id": "FvjprpzIiOBE",
        "colab_type": "code",
        "colab": {
          "base_uri": "https://localhost:8080/",
          "height": 88
        },
        "outputId": "4fbf0ed1-4ad8-49c4-f455-ea42aa80baa3"
      },
      "source": [
        "!pip install h5py pyyaml"
      ],
      "execution_count": null,
      "outputs": [
        {
          "output_type": "stream",
          "text": [
            "Requirement already satisfied: h5py in /usr/local/lib/python3.6/dist-packages (2.10.0)\n",
            "Requirement already satisfied: pyyaml in /usr/local/lib/python3.6/dist-packages (3.13)\n",
            "Requirement already satisfied: six in /usr/local/lib/python3.6/dist-packages (from h5py) (1.15.0)\n",
            "Requirement already satisfied: numpy>=1.7 in /usr/local/lib/python3.6/dist-packages (from h5py) (1.18.5)\n"
          ],
          "name": "stdout"
        }
      ]
    },
    {
      "cell_type": "code",
      "metadata": {
        "id": "opoe8roiiiQE",
        "colab_type": "code",
        "colab": {}
      },
      "source": [
        "checkpoint_path=\"/content/drive/My Drive/Incubator/cp.cpkt\"\n",
        "cp_callback = tf.keras.callbacks.ModelCheckpoint(checkpoint_path, save_weights_only = True, verbose =1)"
      ],
      "execution_count": null,
      "outputs": []
    },
    {
      "cell_type": "markdown",
      "metadata": {
        "id": "EpdMT-MkcWSv",
        "colab_type": "text"
      },
      "source": [
        "# MODEL"
      ]
    },
    {
      "cell_type": "code",
      "metadata": {
        "id": "exnqJZOccZG8",
        "colab_type": "code",
        "colab": {}
      },
      "source": [
        "import tensorflow as tf\n",
        "\n",
        "model = tf.keras.Sequential([\n",
        "                             tf.keras.layers.Embedding(vocab_size+1, output_dim=64, input_length=max_length),\n",
        "                             tf.keras.layers.Conv1D(128, 5, activation='relu'),\n",
        "                             tf.keras.layers.GlobalAveragePooling1D(),\n",
        "                             tf.keras.layers.Dense(64, activation='relu'),\n",
        "                             tf.keras.layers.Dense(41, activation='sigmoid')\n",
        "])"
      ],
      "execution_count": null,
      "outputs": []
    },
    {
      "cell_type": "code",
      "metadata": {
        "id": "s64590U9cd7l",
        "colab_type": "code",
        "colab": {
          "base_uri": "https://localhost:8080/",
          "height": 337
        },
        "outputId": "86c72ba2-0aa9-48cd-b6be-7a5f3909b05d"
      },
      "source": [
        "model.summary()"
      ],
      "execution_count": null,
      "outputs": [
        {
          "output_type": "stream",
          "text": [
            "Model: \"sequential\"\n",
            "_________________________________________________________________\n",
            "Layer (type)                 Output Shape              Param #   \n",
            "=================================================================\n",
            "embedding (Embedding)        (None, 200, 64)           4450880   \n",
            "_________________________________________________________________\n",
            "conv1d (Conv1D)              (None, 196, 128)          41088     \n",
            "_________________________________________________________________\n",
            "global_average_pooling1d (Gl (None, 128)               0         \n",
            "_________________________________________________________________\n",
            "dense (Dense)                (None, 64)                8256      \n",
            "_________________________________________________________________\n",
            "dense_1 (Dense)              (None, 41)                2665      \n",
            "=================================================================\n",
            "Total params: 4,502,889\n",
            "Trainable params: 4,502,889\n",
            "Non-trainable params: 0\n",
            "_________________________________________________________________\n"
          ],
          "name": "stdout"
        }
      ]
    },
    {
      "cell_type": "code",
      "metadata": {
        "id": "zPf6dPzTcfKF",
        "colab_type": "code",
        "colab": {}
      },
      "source": [
        "model.compile(optimizer='adam', loss='binary_crossentropy',metrics = ['accuracy'])"
      ],
      "execution_count": null,
      "outputs": []
    },
    {
      "cell_type": "code",
      "metadata": {
        "id": "2Y918i7rcwox",
        "colab_type": "code",
        "colab": {
          "base_uri": "https://localhost:8080/",
          "height": 372
        },
        "outputId": "0a13c39a-4785-4639-c3f6-81ba05dc99a9"
      },
      "source": [
        "history = model.fit(train_padded, train_label, epochs=10, validation_data=(test_padded, test_label), verbose=2)"
      ],
      "execution_count": null,
      "outputs": [
        {
          "output_type": "stream",
          "text": [
            "Epoch 1/10\n",
            "1166/1166 - 48s - loss: 0.0572 - accuracy: 0.4415 - val_loss: 0.3244 - val_accuracy: 0.1786\n",
            "Epoch 2/10\n",
            "1166/1166 - 50s - loss: 0.0525 - accuracy: 0.4505 - val_loss: 0.3502 - val_accuracy: 0.1799\n",
            "Epoch 3/10\n",
            "1166/1166 - 47s - loss: 0.0482 - accuracy: 0.4591 - val_loss: 0.3712 - val_accuracy: 0.1799\n",
            "Epoch 4/10\n",
            "1166/1166 - 47s - loss: 0.0445 - accuracy: 0.4679 - val_loss: 0.3985 - val_accuracy: 0.1809\n",
            "Epoch 5/10\n",
            "1166/1166 - 47s - loss: 0.0410 - accuracy: 0.4762 - val_loss: 0.4239 - val_accuracy: 0.1792\n",
            "Epoch 6/10\n",
            "1166/1166 - 47s - loss: 0.0378 - accuracy: 0.4858 - val_loss: 0.4560 - val_accuracy: 0.1780\n",
            "Epoch 7/10\n",
            "1166/1166 - 47s - loss: 0.0348 - accuracy: 0.4888 - val_loss: 0.4831 - val_accuracy: 0.1752\n",
            "Epoch 8/10\n",
            "1166/1166 - 47s - loss: 0.0320 - accuracy: 0.4985 - val_loss: 0.5218 - val_accuracy: 0.1747\n",
            "Epoch 9/10\n",
            "1166/1166 - 47s - loss: 0.0295 - accuracy: 0.5030 - val_loss: 0.5421 - val_accuracy: 0.1733\n",
            "Epoch 10/10\n",
            "1166/1166 - 47s - loss: 0.0273 - accuracy: 0.5044 - val_loss: 0.5769 - val_accuracy: 0.1777\n"
          ],
          "name": "stdout"
        }
      ]
    },
    {
      "cell_type": "code",
      "metadata": {
        "id": "nffNoHdZkPBg",
        "colab_type": "code",
        "colab": {}
      },
      "source": [
        "model.save(\"/content/drive/My Drive/Incubator/model.h5\")"
      ],
      "execution_count": null,
      "outputs": []
    },
    {
      "cell_type": "markdown",
      "metadata": {
        "id": "DDUhRb2vfBBC",
        "colab_type": "text"
      },
      "source": [
        "# MODEL 2"
      ]
    },
    {
      "cell_type": "code",
      "metadata": {
        "id": "usfLGCxdcxhL",
        "colab_type": "code",
        "colab": {
          "base_uri": "https://localhost:8080/",
          "height": 212
        },
        "outputId": "b845c7a5-1f42-4df0-a0a1-0d9e2352f95d"
      },
      "source": [
        "!wget --no-check-certificate \\\n",
        "    https://storage.googleapis.com/laurencemoroney-blog.appspot.com/glove.6B.100d.txt \\\n",
        "    -O /tmp/glove.6B.100d.txt\n",
        "embeddings_index = {};\n",
        "with open('/tmp/glove.6B.100d.txt') as f:\n",
        "    for line in f:\n",
        "        values = line.split();\n",
        "        word = values[0];\n",
        "        coefs = np.asarray(values[1:], dtype='float32');\n",
        "        embeddings_index[word] = coefs;\n",
        "\n",
        "embeddings_matrix = np.zeros((vocab_size+1, embedding_dim));\n",
        "for word, i in word_index.items():\n",
        "    embedding_vector = embeddings_index.get(word);\n",
        "    if embedding_vector is not None:\n",
        "        embeddings_matrix[i] = embedding_vector;"
      ],
      "execution_count": null,
      "outputs": [
        {
          "output_type": "stream",
          "text": [
            "--2020-08-09 15:25:17--  https://storage.googleapis.com/laurencemoroney-blog.appspot.com/glove.6B.100d.txt\n",
            "Resolving storage.googleapis.com (storage.googleapis.com)... 74.125.204.128, 64.233.187.128, 64.233.189.128, ...\n",
            "Connecting to storage.googleapis.com (storage.googleapis.com)|74.125.204.128|:443... connected.\n",
            "HTTP request sent, awaiting response... 200 OK\n",
            "Length: 347116733 (331M) [text/plain]\n",
            "Saving to: ‘/tmp/glove.6B.100d.txt’\n",
            "\n",
            "/tmp/glove.6B.100d. 100%[===================>] 331.04M  57.3MB/s    in 5.8s    \n",
            "\n",
            "2020-08-09 15:25:23 (57.3 MB/s) - ‘/tmp/glove.6B.100d.txt’ saved [347116733/347116733]\n",
            "\n"
          ],
          "name": "stdout"
        }
      ]
    },
    {
      "cell_type": "code",
      "metadata": {
        "id": "udLJVnkXfIN9",
        "colab_type": "code",
        "colab": {}
      },
      "source": [
        "model1 = tf.keras.Sequential([\n",
        "    tf.keras.layers.Embedding(vocab_size+1, embedding_dim, input_length=max_length, weights=[embeddings_matrix], trainable=False),\n",
        "    tf.keras.layers.Dropout(0.2),\n",
        "    tf.keras.layers.Conv1D(64, 5, activation='relu'),\n",
        "    tf.keras.layers.MaxPooling1D(pool_size=4),\n",
        "    tf.keras.layers.LSTM(64),\n",
        "    tf.keras.layers.Dense(41, activation='sigmoid')\n",
        "])\n",
        "model1.compile(loss='binary_crossentropy',optimizer='adam',metrics=['accuracy'])"
      ],
      "execution_count": null,
      "outputs": []
    },
    {
      "cell_type": "code",
      "metadata": {
        "id": "ZFAn1OIifkAr",
        "colab_type": "code",
        "colab": {
          "base_uri": "https://localhost:8080/",
          "height": 372
        },
        "outputId": "99c11f5a-4fb9-4632-a327-2fe03c6bef11"
      },
      "source": [
        "model1.summary()"
      ],
      "execution_count": null,
      "outputs": [
        {
          "output_type": "stream",
          "text": [
            "Model: \"sequential_1\"\n",
            "_________________________________________________________________\n",
            "Layer (type)                 Output Shape              Param #   \n",
            "=================================================================\n",
            "embedding_1 (Embedding)      (None, 200, 100)          6954500   \n",
            "_________________________________________________________________\n",
            "dropout (Dropout)            (None, 200, 100)          0         \n",
            "_________________________________________________________________\n",
            "conv1d_1 (Conv1D)            (None, 196, 64)           32064     \n",
            "_________________________________________________________________\n",
            "max_pooling1d (MaxPooling1D) (None, 49, 64)            0         \n",
            "_________________________________________________________________\n",
            "lstm (LSTM)                  (None, 64)                33024     \n",
            "_________________________________________________________________\n",
            "dense_2 (Dense)              (None, 41)                2665      \n",
            "=================================================================\n",
            "Total params: 7,022,253\n",
            "Trainable params: 67,753\n",
            "Non-trainable params: 6,954,500\n",
            "_________________________________________________________________\n"
          ],
          "name": "stdout"
        }
      ]
    },
    {
      "cell_type": "code",
      "metadata": {
        "id": "P5dJFfdUNO7N",
        "colab_type": "code",
        "colab": {
          "base_uri": "https://localhost:8080/",
          "height": 906
        },
        "outputId": "5d41f3da-2520-4824-dbb6-5d2042aae09a"
      },
      "source": [
        "history1 = model1.fit(train_padded, train_label, epochs=25, validation_data=(test_padded, test_label), verbose=2)"
      ],
      "execution_count": null,
      "outputs": [
        {
          "output_type": "stream",
          "text": [
            "Epoch 1/25\n",
            "1166/1166 - 17s - loss: 0.1839 - accuracy: 0.1066 - val_loss: 0.1747 - val_accuracy: 0.1083\n",
            "Epoch 2/25\n",
            "1166/1166 - 15s - loss: 0.1744 - accuracy: 0.1101 - val_loss: 0.1747 - val_accuracy: 0.1083\n",
            "Epoch 3/25\n",
            "1166/1166 - 17s - loss: 0.1744 - accuracy: 0.1105 - val_loss: 0.1750 - val_accuracy: 0.1083\n",
            "Epoch 4/25\n",
            "1166/1166 - 18s - loss: 0.1743 - accuracy: 0.1106 - val_loss: 0.1750 - val_accuracy: 0.1083\n",
            "Epoch 5/25\n",
            "1166/1166 - 18s - loss: 0.1743 - accuracy: 0.1107 - val_loss: 0.1749 - val_accuracy: 0.1083\n",
            "Epoch 6/25\n",
            "1166/1166 - 18s - loss: 0.1743 - accuracy: 0.1106 - val_loss: 0.1749 - val_accuracy: 0.1083\n",
            "Epoch 7/25\n",
            "1166/1166 - 18s - loss: 0.1743 - accuracy: 0.1105 - val_loss: 0.1752 - val_accuracy: 0.1083\n",
            "Epoch 8/25\n",
            "1166/1166 - 18s - loss: 0.1743 - accuracy: 0.1108 - val_loss: 0.1748 - val_accuracy: 0.1083\n",
            "Epoch 9/25\n",
            "1166/1166 - 18s - loss: 0.1743 - accuracy: 0.1109 - val_loss: 0.1748 - val_accuracy: 0.1083\n",
            "Epoch 10/25\n",
            "1166/1166 - 19s - loss: 0.1742 - accuracy: 0.1109 - val_loss: 0.1749 - val_accuracy: 0.1083\n",
            "Epoch 11/25\n",
            "1166/1166 - 18s - loss: 0.1742 - accuracy: 0.1109 - val_loss: 0.1748 - val_accuracy: 0.1083\n",
            "Epoch 12/25\n",
            "1166/1166 - 18s - loss: 0.1742 - accuracy: 0.1109 - val_loss: 0.1748 - val_accuracy: 0.1083\n",
            "Epoch 13/25\n",
            "1166/1166 - 18s - loss: 0.1742 - accuracy: 0.1113 - val_loss: 0.1748 - val_accuracy: 0.1083\n",
            "Epoch 14/25\n",
            "1166/1166 - 18s - loss: 0.1742 - accuracy: 0.1109 - val_loss: 0.1749 - val_accuracy: 0.1083\n",
            "Epoch 15/25\n",
            "1166/1166 - 18s - loss: 0.1742 - accuracy: 0.1108 - val_loss: 0.1747 - val_accuracy: 0.1083\n",
            "Epoch 16/25\n",
            "1166/1166 - 18s - loss: 0.1742 - accuracy: 0.1104 - val_loss: 0.1747 - val_accuracy: 0.1083\n",
            "Epoch 17/25\n",
            "1166/1166 - 18s - loss: 0.1742 - accuracy: 0.1107 - val_loss: 0.1748 - val_accuracy: 0.1083\n",
            "Epoch 18/25\n",
            "1166/1166 - 18s - loss: 0.1742 - accuracy: 0.1109 - val_loss: 0.1748 - val_accuracy: 0.1083\n",
            "Epoch 19/25\n",
            "1166/1166 - 18s - loss: 0.1742 - accuracy: 0.1109 - val_loss: 0.1746 - val_accuracy: 0.1083\n",
            "Epoch 20/25\n",
            "1166/1166 - 18s - loss: 0.1741 - accuracy: 0.1109 - val_loss: 0.1748 - val_accuracy: 0.1083\n",
            "Epoch 21/25\n",
            "1166/1166 - 18s - loss: 0.1741 - accuracy: 0.1109 - val_loss: 0.1746 - val_accuracy: 0.1083\n",
            "Epoch 22/25\n",
            "1166/1166 - 18s - loss: 0.1741 - accuracy: 0.1109 - val_loss: 0.1748 - val_accuracy: 0.1083\n",
            "Epoch 23/25\n",
            "1166/1166 - 18s - loss: 0.1741 - accuracy: 0.1109 - val_loss: 0.1747 - val_accuracy: 0.1083\n",
            "Epoch 24/25\n",
            "1166/1166 - 18s - loss: 0.1741 - accuracy: 0.1109 - val_loss: 0.1747 - val_accuracy: 0.1083\n",
            "Epoch 25/25\n",
            "1166/1166 - 18s - loss: 0.1741 - accuracy: 0.1109 - val_loss: 0.1746 - val_accuracy: 0.1083\n"
          ],
          "name": "stdout"
        }
      ]
    },
    {
      "cell_type": "code",
      "metadata": {
        "id": "g8xuv6qgQ_fx",
        "colab_type": "code",
        "colab": {}
      },
      "source": [
        "model1.save(\"/content/drive/My Drive/Incubator/model_glove.h5\")"
      ],
      "execution_count": null,
      "outputs": []
    },
    {
      "cell_type": "markdown",
      "metadata": {
        "id": "RpMIPtLPOwJi",
        "colab_type": "text"
      },
      "source": [
        "# Loading model"
      ]
    },
    {
      "cell_type": "code",
      "metadata": {
        "id": "Irh70aFMf0jV",
        "colab_type": "code",
        "colab": {}
      },
      "source": [
        "from tensorflow import keras\n",
        "model = keras.models.load_model(\"/content/drive/My Drive/Incubator/my_model.h5\")"
      ],
      "execution_count": null,
      "outputs": []
    },
    {
      "cell_type": "code",
      "metadata": {
        "id": "t6Viam8YQEJV",
        "colab_type": "code",
        "colab": {}
      },
      "source": [
        "def predictor(text):\n",
        "  text = clean_text(text)\n",
        "  text = remove_stopwords(text)\n",
        "  sequences = tokenizer.texts_to_sequences([text])\n",
        "  padded = pad_sequences(sequences,  maxlen=max_length, padding=padding_type, truncating=trunc_type)\n",
        "  prediction = model.predict(padded)\n",
        "  return prediction\n",
        "\n"
      ],
      "execution_count": null,
      "outputs": []
    },
    {
      "cell_type": "code",
      "metadata": {
        "id": "N3mJoip1RrRe",
        "colab_type": "code",
        "colab": {}
      },
      "source": [
        "x = movies['clean_plot'][4]"
      ],
      "execution_count": null,
      "outputs": []
    },
    {
      "cell_type": "code",
      "metadata": {
        "id": "6exPhR26Ry5H",
        "colab_type": "code",
        "colab": {
          "base_uri": "https://localhost:8080/",
          "height": 35
        },
        "outputId": "1b11e33a-9624-4911-e7b2-7d7f02f608a9"
      },
      "source": [
        "predictions = model.predict([test_padded])"
      ],
      "execution_count": null,
      "outputs": [
        {
          "output_type": "stream",
          "text": [
            "WARNING:tensorflow:Model was constructed with shape (None, 700) for input Tensor(\"embedding_input_1:0\", shape=(None, 700), dtype=float32), but it was called on an input with incompatible shape (None, 200).\n"
          ],
          "name": "stdout"
        }
      ]
    },
    {
      "cell_type": "code",
      "metadata": {
        "id": "XSMThZYB66e_",
        "colab_type": "code",
        "colab": {
          "base_uri": "https://localhost:8080/",
          "height": 35
        },
        "outputId": "73b9e172-fe17-4086-a40a-03f54965b823"
      },
      "source": [
        "predictions[1].shape"
      ],
      "execution_count": null,
      "outputs": [
        {
          "output_type": "execute_result",
          "data": {
            "text/plain": [
              "(41,)"
            ]
          },
          "metadata": {
            "tags": []
          },
          "execution_count": 136
        }
      ]
    },
    {
      "cell_type": "code",
      "metadata": {
        "id": "vRjXjmX-TLA1",
        "colab_type": "code",
        "colab": {
          "base_uri": "https://localhost:8080/",
          "height": 497
        },
        "outputId": "650ba0ad-bd86-4b4a-f281-f6dae303df0e"
      },
      "source": [
        "thresholds=[0.1,0.2,0.3,0.4,0.5,0.6,0.7,0.8,0.9]\n",
        "for val in thresholds:\n",
        "    print (\"threshold: \",val)\n",
        "    pred=predictions.copy()\n",
        "  \n",
        "    pred[pred>=val]=1\n",
        "    pred[pred<val]=0\n",
        "  \n",
        "    precision = precision_score(test_label, pred, average='micro')\n",
        "    recall = recall_score(test_label, pred, average='micro')\n",
        "    f1 = f1_score(test_label, pred, average='micro')\n",
        "   \n",
        "    print(\"Micro-average quality numbers\")\n",
        "    print(\"Precision: {:.4f}, Recall: {:.4f}, F1-measure: {:.4f}\".format(precision, recall, f1))"
      ],
      "execution_count": null,
      "outputs": [
        {
          "output_type": "stream",
          "text": [
            "threshold:  0.1\n",
            "Micro-average quality numbers\n",
            "Precision: 0.2193, Recall: 0.3834, F1-measure: 0.2790\n",
            "threshold:  0.2\n",
            "Micro-average quality numbers\n",
            "Precision: 0.2428, Recall: 0.3444, F1-measure: 0.2848\n",
            "threshold:  0.3\n",
            "Micro-average quality numbers\n",
            "Precision: 0.2628, Recall: 0.3167, F1-measure: 0.2872\n",
            "threshold:  0.4\n",
            "Micro-average quality numbers\n",
            "Precision: 0.2779, Recall: 0.2966, F1-measure: 0.2869\n",
            "threshold:  0.5\n",
            "Micro-average quality numbers\n",
            "Precision: 0.2915, Recall: 0.2794, F1-measure: 0.2853\n",
            "threshold:  0.6\n",
            "Micro-average quality numbers\n",
            "Precision: 0.3051, Recall: 0.2595, F1-measure: 0.2805\n",
            "threshold:  0.7\n",
            "Micro-average quality numbers\n",
            "Precision: 0.3195, Recall: 0.2434, F1-measure: 0.2763\n",
            "threshold:  0.8\n",
            "Micro-average quality numbers\n",
            "Precision: 0.3357, Recall: 0.2256, F1-measure: 0.2698\n",
            "threshold:  0.9\n",
            "Micro-average quality numbers\n",
            "Precision: 0.3578, Recall: 0.2020, F1-measure: 0.2582\n"
          ],
          "name": "stdout"
        }
      ]
    },
    {
      "cell_type": "code",
      "metadata": {
        "id": "_uXPApcgTquq",
        "colab_type": "code",
        "colab": {}
      },
      "source": [
        "s =\"Ethan Hunt and the IMF team join forces with CIA assassin August Walker to prevent a disaster of epic proportions. Arms dealer John Lark and a group of terrorists known as the Apostles plan to use three plutonium cores for a simultaneous nuclear attack on the Vatican, Jerusalem and Mecca, Saudi Arabia. When the weapons go missing, Ethan and his crew find themselves in a desperate race against time to prevent them from falling into the wrong hands\"\n",
        "clean = clean_text(s)\n",
        "stop = remove_stopwords(clean)\n",
        "token = tokenizer.texts_to_sequences([stop])\n",
        "pad = pad_sequences(token,  maxlen=max_length, padding=padding_type, truncating=trunc_type)\n",
        "x = model.predict(pad)"
      ],
      "execution_count": null,
      "outputs": []
    },
    {
      "cell_type": "code",
      "metadata": {
        "id": "MM_8WgQSYH9q",
        "colab_type": "code",
        "colab": {
          "base_uri": "https://localhost:8080/",
          "height": 106
        },
        "outputId": "3bc3ed78-29ba-413c-cfa8-58eab2c7cf94"
      },
      "source": [
        "x>0.1"
      ],
      "execution_count": null,
      "outputs": [
        {
          "output_type": "execute_result",
          "data": {
            "text/plain": [
              "array([[False, False, False, False, False,  True, False,  True, False,\n",
              "        False, False, False, False, False, False, False, False,  True,\n",
              "        False, False, False,  True, False, False, False, False, False,\n",
              "        False, False, False, False, False, False, False, False, False,\n",
              "        False, False, False, False, False]])"
            ]
          },
          "metadata": {
            "tags": []
          },
          "execution_count": 129
        }
      ]
    },
    {
      "cell_type": "code",
      "metadata": {
        "id": "W1HUh5MYXfeo",
        "colab_type": "code",
        "colab": {
          "base_uri": "https://localhost:8080/",
          "height": 35
        },
        "outputId": "ec1235bd-fde5-470b-e872-9cf8a71d5d89"
      },
      "source": [
        "multilabel_binarizer.inverse_transform((x>0.2).astype(np.int))"
      ],
      "execution_count": null,
      "outputs": [
        {
          "output_type": "execute_result",
          "data": {
            "text/plain": [
              "[(' adventure', ' thriller', 'action')]"
            ]
          },
          "metadata": {
            "tags": []
          },
          "execution_count": 138
        }
      ]
    },
    {
      "cell_type": "code",
      "metadata": {
        "id": "kOnoV5qBXt53",
        "colab_type": "code",
        "colab": {}
      },
      "source": [
        "import pickle"
      ],
      "execution_count": null,
      "outputs": []
    },
    {
      "cell_type": "code",
      "metadata": {
        "id": "jenK_3nEwNct",
        "colab_type": "code",
        "colab": {}
      },
      "source": [
        "with open('/content/drive/My Drive/Incubator/tokenizer1.pickle', 'wb') as handle:\n",
        "    pickle.dump(tokenizer, handle, protocol=pickle.HIGHEST_PROTOCOL)"
      ],
      "execution_count": null,
      "outputs": []
    },
    {
      "cell_type": "code",
      "metadata": {
        "id": "gP0WMlwL_Fz8",
        "colab_type": "code",
        "colab": {}
      },
      "source": [
        "with open('tokenizer.pickle', 'rb') as handle:\n",
        "    tokenizer = pickle.load(handle)"
      ],
      "execution_count": null,
      "outputs": []
    },
    {
      "cell_type": "code",
      "metadata": {
        "id": "xqu1j2e1BT0s",
        "colab_type": "code",
        "colab": {}
      },
      "source": [
        "with open('/content/drive/My Drive/Incubator/binarizer.pickle', 'wb') as handle:\n",
        "    pickle.dump(multilabel_binarizer, handle, protocol=pickle.HIGHEST_PROTOCOL)"
      ],
      "execution_count": null,
      "outputs": []
    },
    {
      "cell_type": "code",
      "metadata": {
        "id": "q52cpxJtBoh4",
        "colab_type": "code",
        "colab": {}
      },
      "source": [
        "with open('/content/drive/My Drive/Incubator/binarizer.pickle', 'rb') as handle:\n",
        "    multi_label = pickle.load(handle)"
      ],
      "execution_count": null,
      "outputs": []
    },
    {
      "cell_type": "code",
      "metadata": {
        "id": "ZI-JQsT-BzK1",
        "colab_type": "code",
        "colab": {}
      },
      "source": [
        "from nltk.corpus import stopwords\n",
        "stop_words = set(stopwords.words('english'))\n",
        "class clean_text():\n",
        "      def __init__(self, text = \"test\"):\n",
        "        self.text = text\n",
        "\n",
        "      def remove_stopwords(self):\n",
        "          no_stopword_text = [w for w in self.text.split() if not w in stop_words]\n",
        "          self.text = ' '.join(no_stopword_text)\n",
        "          return self\n",
        "  \n",
        "      def clean(self):\n",
        "          # remove backslash-apostrophe \n",
        "          txt = re.sub(\"\\'\", \"\", self.text) \n",
        "          # remove everything except alphabets \n",
        "          txt = re.sub(\"[^a-zA-Z]\",\" \",txt) \n",
        "          # remove whitespaces \n",
        "          txt = ' '.join(txt.split()) \n",
        "          # convert text to lowercase \n",
        "          self.text = txt.lower() \n",
        "          return self\n",
        "      \n",
        "      def do_all(self,text):\n",
        "        self.text = text\n",
        "        self = self.remove_stopwords()\n",
        "        self = self.clean()\n",
        "        return self.text"
      ],
      "execution_count": null,
      "outputs": []
    },
    {
      "cell_type": "code",
      "metadata": {
        "id": "TEkfI7hgHgaM",
        "colab_type": "code",
        "colab": {}
      },
      "source": [
        "clean = clean_text()"
      ],
      "execution_count": null,
      "outputs": []
    },
    {
      "cell_type": "code",
      "metadata": {
        "id": "b0axbuulvKpy",
        "colab_type": "code",
        "colab": {}
      },
      "source": [
        "import pickle"
      ],
      "execution_count": null,
      "outputs": []
    },
    {
      "cell_type": "code",
      "metadata": {
        "id": "ksJNSARIG5nc",
        "colab_type": "code",
        "colab": {}
      },
      "source": [
        "with open('/content/drive/My Drive/Incubator/cleaner1.pickle', 'wb') as handle:\n",
        "    pickle.dump(cleat, handle, protocol=pickle.HIGHEST_PROTOCOL)"
      ],
      "execution_count": null,
      "outputs": []
    },
    {
      "cell_type": "code",
      "metadata": {
        "id": "6n1fCoJaG8r0",
        "colab_type": "code",
        "colab": {}
      },
      "source": [
        "with open('/content/drive/My Drive/Incubator/cleaner.pickle', 'rb') as handle:\n",
        "   cleand = pickle.load(handle)"
      ],
      "execution_count": null,
      "outputs": []
    },
    {
      "cell_type": "code",
      "metadata": {
        "id": "hBqs9HJzG-N9",
        "colab_type": "code",
        "colab": {}
      },
      "source": [
        "with open('/content/drive/My Drive/Incubator/cleaner1.pickle', 'rb') as handle:\n",
        "    dum = pickle.load(handle)"
      ],
      "execution_count": null,
      "outputs": []
    },
    {
      "cell_type": "code",
      "metadata": {
        "id": "JFrc3j29H4kX",
        "colab_type": "code",
        "colab": {
          "base_uri": "https://localhost:8080/",
          "height": 36
        },
        "outputId": "91496187-7925-45e4-e9ac-ca3c6969fc33"
      },
      "source": [
        "text = \"vnsfjdkvniofnvioernvn  infoiwejocp nejfojwjfjj99wfj jciowjc\"\n",
        "cleand.do_all(text)"
      ],
      "execution_count": null,
      "outputs": [
        {
          "output_type": "execute_result",
          "data": {
            "application/vnd.google.colaboratory.intrinsic+json": {
              "type": "string"
            },
            "text/plain": [
              "'vnsfjdkvniofnvioernvn infoiwejocp nejfojwjfjj wfj jciowjc'"
            ]
          },
          "metadata": {
            "tags": []
          },
          "execution_count": 18
        }
      ]
    },
    {
      "cell_type": "code",
      "metadata": {
        "id": "sVUPxURMvdXq",
        "colab_type": "code",
        "colab": {
          "base_uri": "https://localhost:8080/",
          "height": 36
        },
        "outputId": "ca7dc3a3-461e-4b30-8745-f123378df8d4"
      },
      "source": [
        "import sklearn\n",
        "tf.__version__"
      ],
      "execution_count": null,
      "outputs": [
        {
          "output_type": "execute_result",
          "data": {
            "application/vnd.google.colaboratory.intrinsic+json": {
              "type": "string"
            },
            "text/plain": [
              "'2.3.0'"
            ]
          },
          "metadata": {
            "tags": []
          },
          "execution_count": 30
        }
      ]
    },
    {
      "cell_type": "code",
      "metadata": {
        "id": "4r3n6WZoxO60",
        "colab_type": "code",
        "colab": {}
      },
      "source": [
        ""
      ],
      "execution_count": null,
      "outputs": []
    }
  ]
}